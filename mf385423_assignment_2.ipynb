{
 "cells": [
  {
   "cell_type": "markdown",
   "metadata": {},
   "source": [
    "# Deep Neural Networks course - assignment 1"
   ]
  },
  {
   "cell_type": "markdown",
   "metadata": {},
   "source": [
    "### Michał Filipiuk 385423"
   ]
  },
  {
   "cell_type": "markdown",
   "metadata": {},
   "source": [
    "#### Imports"
   ]
  },
  {
   "cell_type": "code",
   "execution_count": 1,
   "metadata": {},
   "outputs": [],
   "source": [
    "%load_ext autoreload\n",
    "%autoreload 2"
   ]
  },
  {
   "cell_type": "code",
   "execution_count": 12,
   "metadata": {},
   "outputs": [],
   "source": [
    "import numpy as np\n",
    "import matplotlib.pyplot as plt\n",
    "\n",
    "import torch\n",
    "import torch.nn as nn\n",
    "\n",
    "from src.data_loading import load_dataset, load_config\n",
    "from src.network import U_net, training"
   ]
  },
  {
   "cell_type": "markdown",
   "metadata": {},
   "source": [
    "#### Loading configuration and data"
   ]
  },
  {
   "cell_type": "code",
   "execution_count": 5,
   "metadata": {},
   "outputs": [],
   "source": [
    "config = load_config()\n",
    "torch.cuda.set_device(config[\"DEVICE_NUMBER\"])"
   ]
  },
  {
   "cell_type": "code",
   "execution_count": 8,
   "metadata": {},
   "outputs": [],
   "source": [
    "train, validation, test = load_dataset(config, validation_set_size = 0.1, test_set_size = 0.1, force_preprocessing=True)"
   ]
  },
  {
   "cell_type": "code",
   "execution_count": 7,
   "metadata": {},
   "outputs": [],
   "source": [
    "u_net = U_net()"
   ]
  },
  {
   "cell_type": "code",
   "execution_count": 11,
   "metadata": {},
   "outputs": [
    {
     "data": {
      "text/plain": [
       "array([[[ 4,  4,  4, ...,  4,  4,  4],\n",
       "        [ 4,  4,  4, ..., 24,  4,  4],\n",
       "        [ 4,  4,  4, ...,  3,  4,  4],\n",
       "        ...,\n",
       "        [ 4,  4,  4, ...,  4,  4,  4],\n",
       "        [ 4,  4,  4, ...,  4,  4,  4],\n",
       "        [ 4,  4,  4, ...,  4,  4,  4]],\n",
       "\n",
       "       [[ 4,  4,  4, ...,  4,  4,  4],\n",
       "        [ 4,  4, 24, ...,  4,  4,  4],\n",
       "        [ 4,  4,  3, ...,  4,  4,  4],\n",
       "        ...,\n",
       "        [ 4,  4,  4, ...,  4,  4,  4],\n",
       "        [ 4,  4,  4, ...,  4,  4,  4],\n",
       "        [ 4,  4,  4, ...,  4,  4,  4]],\n",
       "\n",
       "       [[ 4,  4,  4, ...,  4,  4,  4],\n",
       "        [ 4,  4,  4, ..., 24,  4,  4],\n",
       "        [ 4,  4,  4, ...,  3,  4,  4],\n",
       "        ...,\n",
       "        [ 4,  4,  4, ...,  4,  4,  4],\n",
       "        [ 4,  4,  4, ...,  4,  4,  4],\n",
       "        [ 4,  4,  4, ...,  4,  4,  4]],\n",
       "\n",
       "       ...,\n",
       "\n",
       "       [[ 4, 24,  4, ...,  4,  4,  4],\n",
       "        [ 4,  3, 24, ..., 24,  3, 24],\n",
       "        [24,  3,  3, ...,  3,  3, 24],\n",
       "        ...,\n",
       "        [27, 18, 23, ..., 18, 18,  3],\n",
       "        [24, 29, 26, ..., 12, 29,  3],\n",
       "        [ 4,  4,  4, ...,  4,  4,  4]],\n",
       "\n",
       "       [[ 4,  4,  4, ...,  4,  4,  4],\n",
       "        [24,  3, 24, ..., 27, 27, 24],\n",
       "        [24,  3,  3, ..., 16, 16, 24],\n",
       "        ...,\n",
       "        [11,  5,  5, ..., 26, 26, 24],\n",
       "        [24, 26,  3, ...,  3,  3, 24],\n",
       "        [24, 24,  4, ...,  4, 24,  4]],\n",
       "\n",
       "       [[ 4,  4,  4, ...,  4,  4,  4],\n",
       "        [24, 27, 27, ..., 24,  3, 24],\n",
       "        [24, 16, 16, ...,  3,  3, 24],\n",
       "        ...,\n",
       "        [24, 26, 26, ...,  5,  5, 11],\n",
       "        [24,  3,  3, ...,  3, 26, 24],\n",
       "        [ 4, 24,  4, ...,  4, 24, 24]]])"
      ]
     },
     "execution_count": 11,
     "metadata": {},
     "output_type": "execute_result"
    }
   ],
   "source": [
    "training(u_net, train, validation)"
   ]
  },
  {
   "cell_type": "code",
   "execution_count": null,
   "metadata": {},
   "outputs": [],
   "source": []
  }
 ],
 "metadata": {
  "kernelspec": {
   "display_name": "Python 3",
   "language": "python",
   "name": "python3"
  },
  "language_info": {
   "codemirror_mode": {
    "name": "ipython",
    "version": 3
   },
   "file_extension": ".py",
   "mimetype": "text/x-python",
   "name": "python",
   "nbconvert_exporter": "python",
   "pygments_lexer": "ipython3",
   "version": "3.7.3"
  }
 },
 "nbformat": 4,
 "nbformat_minor": 2
}
